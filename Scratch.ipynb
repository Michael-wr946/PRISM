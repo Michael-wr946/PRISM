{
 "cells": [
  {
   "cell_type": "code",
   "execution_count": null,
   "metadata": {},
   "outputs": [],
   "source": [
    "print(\"yaya\")"
   ]
  },
  {
   "cell_type": "code",
   "execution_count": 34,
   "metadata": {},
   "outputs": [],
   "source": [
    "import nsepy as nse\n",
    "import pandas as pd\n",
    "import numpy as np\n",
    "import yfinance as yf\n",
    "import matplotlib.pyplot as plt\n",
    "import plotly.express as px\n",
    "import plotly.graph_objects as go\n",
    "from plotly.subplots import make_subplots\n"
   ]
  },
  {
   "cell_type": "code",
   "execution_count": 35,
   "metadata": {},
   "outputs": [],
   "source": [
    "\n",
    "\n",
    "# Function to create a DataFrame with stock metrics\n",
    "def create_stock_metrics_df(stock_dict):\n",
    "    data = []\n",
    "    for stock_name, ticker_symbol in stock_dict.items():\n",
    "        ticker = yf.Ticker(ticker_symbol)\n",
    "        metrics = {\n",
    "            'Stock': stock_name,\n",
    "            'Ticker': ticker_symbol,\n",
    "            'PE Ratio': ticker.info.get('trailingPE', 'N/A'),\n",
    "            'EPS': ticker.info.get('trailingEps', 'N/A'),\n",
    "            'Dividend Yield': ticker.info.get('dividendYield', 'N/A'),\n",
    "            'Market Cap': ticker.info.get('marketCap', 'N/A'),\n",
    "            '52-Week High': ticker.info.get('fiftyTwoWeekHigh', 'N/A'),\n",
    "            '52-Week Low': ticker.info.get('fiftyTwoWeekLow', 'N/A'),\n",
    "            '90-Day Moving Average': ticker.history(period=\"3mo\")['Close'].mean(),\n",
    "            '180-Day Moving Average': ticker.history(period=\"6mo\")['Close'].mean(),\n",
    "            'Volume': ticker.history(period=\"1d\")['Volume'].sum()\n",
    "            #'Debt-to-Equity Ratio': 'N/A'  # Placeholder, calculation needs to be done differently\n",
    "        }\n",
    "        data.append(metrics)\n",
    "    df = pd.DataFrame(data)\n",
    "    # Convert 'N/A' values to NaN d\n",
    "    df.replace('N/A', pd.NA, inplace=True)\n",
    "    return df\n",
    "\n",
    "# Function to plot stock metrics using Plotly\n",
    "def plot_stock_metrics(df, metric):\n",
    "    fig = px.bar(df, x='Stock', y=metric, title=f'Stock {metric}', labels={'Stock': 'Stock', metric: metric})\n",
    "    fig.show()\n",
    "\n",
    "# Function to plot all stock metrics using subplots in ascending order\n",
    "def plot_all_stock_metrics(df):\n",
    "    metrics_columns = df.columns[2:]  # Exclude 'Stock' and 'Ticker' columns\n",
    "    num_metrics = len(metrics_columns)\n",
    "    fig = make_subplots(rows=num_metrics, cols=1, subplot_titles=metrics_columns)\n",
    "\n",
    "    for i, metric in enumerate(metrics_columns, 1):\n",
    "        sorted_df = df.sort_values(by=metric, ascending=True)\n",
    "        fig.add_trace(go.Bar(x=sorted_df['Stock'], y=sorted_df[metric], name=metric), row=i, col=1)\n",
    "\n",
    "    fig.update_layout(height=300 * num_metrics, title_text=\"Stock Metrics for Nifty 50 Stocks\")\n",
    "    fig.show()\n",
    "\n"
   ]
  },
  {
   "cell_type": "code",
   "execution_count": 36,
   "metadata": {},
   "outputs": [],
   "source": [
    "# Function to plot data for a given ticker\n",
    "def plot_ticker(data, ticker_name,cols_to_plot=[\"Open\", \"High\", \"Low\", \"Close\"],common_axis=\"Datetime\"):\n",
    "    # Creating a figure with subplots\n",
    "    fig = make_subplots(specs=[[{\"secondary_y\": True}]])\n",
    "\n",
    "    # Adding traces for the specified columns on the primary y-axis\n",
    "    for col in cols_to_plot:\n",
    "        fig.add_trace(go.Scatter(x=data[common_axis], y=data[col], mode='lines', name=col), secondary_y=False)\n",
    "\n",
    "    # Adding a trace for the volume on the secondary y-axis\n",
    "    fig.add_trace(go.Scatter(x=data[common_axis], y=data['Volume'], mode='lines', name='Volume'), secondary_y=True)\n",
    "\n",
    "    # Updating the layout\n",
    "    fig.update_layout(title=f'{ticker_name} Intraday Price Movement',\n",
    "                      xaxis_title='Time')\n",
    "\n",
    "    # Updating y-axis titles\n",
    "    fig.update_yaxes(title_text='Price (INR)', secondary_y=False)\n",
    "    fig.update_yaxes(title_text='Volume', secondary_y=True)\n",
    "\n",
    "    # Displaying the plot\n",
    "    fig.show()"
   ]
  },
  {
   "cell_type": "code",
   "execution_count": 37,
   "metadata": {},
   "outputs": [],
   "source": [
    "nse_tickers = {\n",
    "    \"Tata_Motors\": \"TATAMOTORS.NS\",\n",
    "    # \"NSE\": \"^NSEI\",\n",
    "    \"Reliance_Industries\": \"RELIANCE.NS\",\n",
    "    \"HDFC_Bank\": \"HDFCBANK.NS\",\n",
    "    \"Infosys\": \"INFY.NS\",\n",
    "    \"ICICI_Bank\": \"ICICIBANK.NS\",\n",
    "    \"Hindustan_Unilever\": \"HINDUNILVR.NS\",\n",
    "    \"Kotak_Mahindra_Bank\": \"KOTAKBANK.NS\",\n",
    "    \"State_Bank_of_India\": \"SBIN.NS\",\n",
    "    \"Larsen_Toubro\": \"LT.NS\",\n",
    "    \"Axis_Bank\": \"AXISBANK.NS\",\n",
    "    \"Bajaj_Finance\": \"BAJFINANCE.NS\",\n",
    "    \"HCL_Technologies\": \"HCLTECH.NS\",\n",
    "    \"Maruti_Suzuki\": \"MARUTI.NS\",\n",
    "    \"Tata_Steel\": \"TATASTEEL.NS\",\n",
    "    \"Sun_Pharma\": \"SUNPHARMA.NS\",\n",
    "    \"NTPC\": \"NTPC.NS\"\n",
    "}\n",
    "\n"
   ]
  },
  {
   "cell_type": "code",
   "execution_count": 38,
   "metadata": {},
   "outputs": [
    {
     "data": {
      "application/vnd.plotly.v1+json": {
       "config": {
        "plotlyServerURL": "https://plot.ly"
       },
       "data": [
        {
         "name": "PE Ratio",
         "type": "bar",
         "x": [
          "Tata_Motors",
          "State_Bank_of_India",
          "Axis_Bank",
          "Kotak_Mahindra_Bank",
          "NTPC",
          "HDFC_Bank",
          "ICICI_Bank",
          "Reliance_Industries",
          "Maruti_Suzuki",
          "HCL_Technologies",
          "Infosys",
          "Bajaj_Finance",
          "Larsen_Toubro",
          "Sun_Pharma",
          "Tata_Steel",
          "Hindustan_Unilever"
         ],
         "xaxis": "x",
         "y": [
          8.601022,
          9.556054,
          11.553874,
          16.45898,
          16.522842,
          18.724356,
          18.891409,
          25.223063,
          27.134682,
          28.452929,
          28.920965,
          29.233109,
          35.780293,
          38.30763,
          53.701675,
          53.71049
         ],
         "yaxis": "y"
        },
        {
         "name": "EPS",
         "type": "bar",
         "x": [
          "Tata_Steel",
          "NTPC",
          "Hindustan_Unilever",
          "Sun_Pharma",
          "Reliance_Industries",
          "HCL_Technologies",
          "ICICI_Bank",
          "Infosys",
          "State_Bank_of_India",
          "HDFC_Bank",
          "Axis_Bank",
          "Tata_Motors",
          "Larsen_Toubro",
          "Kotak_Mahindra_Bank",
          "Bajaj_Finance",
          "Maruti_Suzuki"
         ],
         "xaxis": "x2",
         "y": [
          2.38,
          19.7,
          43.66,
          46.03,
          50.21,
          62.99,
          66.12,
          66.68,
          80.19,
          88.23,
          89.84,
          90.03,
          98.04,
          109.7,
          248.34,
          445.64
         ],
         "yaxis": "y2"
        },
        {
         "name": "Dividend Yield",
         "type": "bar",
         "x": [
          "Axis_Bank",
          "Kotak_Mahindra_Bank",
          "Tata_Motors",
          "Reliance_Industries",
          "Bajaj_Finance",
          "Sun_Pharma",
          "Larsen_Toubro",
          "ICICI_Bank",
          "Maruti_Suzuki",
          "HDFC_Bank",
          "Hindustan_Unilever",
          "State_Bank_of_India",
          "Infosys",
          "HCL_Technologies",
          "Tata_Steel",
          "NTPC"
         ],
         "xaxis": "x3",
         "y": [
          0.001,
          0.0011,
          0.0039,
          0.004,
          0.005,
          0.0077,
          0.008,
          0.0081,
          0.0105,
          0.0119,
          0.018099999,
          0.0182,
          0.021,
          0.0241,
          0.028499998,
          0.035
         ],
         "yaxis": "y3"
        },
        {
         "name": "Market Cap",
         "type": "bar",
         "x": [
          "Tata_Steel",
          "Tata_Motors",
          "NTPC",
          "Axis_Bank",
          "Kotak_Mahindra_Bank",
          "Maruti_Suzuki",
          "Sun_Pharma",
          "Bajaj_Finance",
          "Larsen_Toubro",
          "HCL_Technologies",
          "Hindustan_Unilever",
          "State_Bank_of_India",
          "Infosys",
          "ICICI_Bank",
          "HDFC_Bank",
          "Reliance_Industries"
         ],
         "xaxis": "x4",
         "y": [
          1594020724736,
          2850475212800,
          3156265926656,
          3214665318400,
          3589740429312,
          3801855557632,
          4230738870272,
          4491338317824,
          4823818174464,
          4854703456256,
          5510257442816,
          6838935879680,
          7987697549312,
          8818745409536,
          12635374354432,
          17138106499072
         ],
         "yaxis": "y4"
        },
        {
         "name": "52-Week High",
         "type": "bar",
         "x": [
          "Tata_Steel",
          "NTPC",
          "State_Bank_of_India",
          "Tata_Motors",
          "Axis_Bank",
          "ICICI_Bank",
          "Reliance_Industries",
          "HDFC_Bank",
          "Kotak_Mahindra_Bank",
          "Sun_Pharma",
          "Infosys",
          "HCL_Technologies",
          "Hindustan_Unilever",
          "Larsen_Toubro",
          "Bajaj_Finance",
          "Maruti_Suzuki"
         ],
         "xaxis": "x5",
         "y": [
          184.6,
          448.45,
          912,
          1179,
          1339.65,
          1362.35,
          1608.8,
          1880,
          1942,
          1960.35,
          2006.45,
          2012.2,
          3035,
          3963.5,
          7824,
          13680
         ],
         "yaxis": "y5"
        },
        {
         "name": "52-Week Low",
         "type": "bar",
         "x": [
          "Tata_Steel",
          "NTPC",
          "State_Bank_of_India",
          "Tata_Motors",
          "ICICI_Bank",
          "Axis_Bank",
          "Reliance_Industries",
          "HCL_Technologies",
          "Sun_Pharma",
          "Infosys",
          "HDFC_Bank",
          "Kotak_Mahindra_Bank",
          "Hindustan_Unilever",
          "Larsen_Toubro",
          "Bajaj_Finance",
          "Maruti_Suzuki"
         ],
         "xaxis": "x6",
         "y": [
          122.62,
          296.55,
          600.65,
          717.7,
          970.15,
          995.7,
          1201.5,
          1235,
          1290,
          1358.35,
          1363.55,
          1543.85,
          2172.05,
          3175.05,
          6187.8,
          9737.65
         ],
         "yaxis": "y6"
        },
        {
         "name": "90-Day Moving Average",
         "type": "bar",
         "x": [
          "Tata_Steel",
          "NTPC",
          "Tata_Motors",
          "State_Bank_of_India",
          "Axis_Bank",
          "Reliance_Industries",
          "ICICI_Bank",
          "HDFC_Bank",
          "Kotak_Mahindra_Bank",
          "Sun_Pharma",
          "HCL_Technologies",
          "Infosys",
          "Hindustan_Unilever",
          "Larsen_Toubro",
          "Bajaj_Finance",
          "Maruti_Suzuki"
         ],
         "xaxis": "x7",
         "y": [
          143.3853121995926,
          365.8311848640442,
          798.9882802963257,
          816.328911781311,
          1128.3039073944092,
          1279.824613571167,
          1285.0632801055908,
          1759.5789051055908,
          1768.8023414611816,
          1820.2242183685303,
          1882.011875152588,
          1890.8051891326904,
          2452.648349761963,
          3630.4484367370605,
          6921.3906326293945,
          11332.964828491211
         ],
         "yaxis": "y7"
        },
        {
         "name": "180-Day Moving Average",
         "type": "bar",
         "x": [
          "Tata_Steel",
          "NTPC",
          "State_Bank_of_India",
          "Tata_Motors",
          "Axis_Bank",
          "ICICI_Bank",
          "Reliance_Industries",
          "HDFC_Bank",
          "Kotak_Mahindra_Bank",
          "HCL_Technologies",
          "Sun_Pharma",
          "Infosys",
          "Hindustan_Unilever",
          "Larsen_Toubro",
          "Bajaj_Finance",
          "Maruti_Suzuki"
         ],
         "xaxis": "x8",
         "y": [
          149.90748073547843,
          385.997842383197,
          815.842128963921,
          912.5854323980376,
          1160.9129907803272,
          1257.0520125261442,
          1375.1855805164248,
          1707.4153562530757,
          1791.0655411847933,
          1791.6858333077018,
          1806.9862175888902,
          1874.2402487927534,
          2619.3587713767224,
          3629.9027493694634,
          7001.617729607529,
          11909.974324864665
         ],
         "yaxis": "y8"
        },
        {
         "name": "Volume",
         "type": "bar",
         "x": [
          "Maruti_Suzuki",
          "Bajaj_Finance",
          "Sun_Pharma",
          "Larsen_Toubro",
          "Hindustan_Unilever",
          "Kotak_Mahindra_Bank",
          "HCL_Technologies",
          "Infosys",
          "Tata_Motors",
          "Axis_Bank",
          "HDFC_Bank",
          "State_Bank_of_India",
          "ICICI_Bank",
          "Reliance_Industries",
          "NTPC",
          "Tata_Steel"
         ],
         "xaxis": "x9",
         "y": [
          551130,
          860816,
          2180146,
          2305388,
          2762503,
          4451507,
          5361047,
          7527493,
          8678662,
          10261342,
          10605895,
          11815191,
          11895661,
          14116032,
          14864338,
          22139928
         ],
         "yaxis": "y9"
        }
       ],
       "layout": {
        "annotations": [
         {
          "font": {
           "size": 16
          },
          "showarrow": false,
          "text": "PE Ratio",
          "x": 0.5,
          "xanchor": "center",
          "xref": "paper",
          "y": 1,
          "yanchor": "bottom",
          "yref": "paper"
         },
         {
          "font": {
           "size": 16
          },
          "showarrow": false,
          "text": "EPS",
          "x": 0.5,
          "xanchor": "center",
          "xref": "paper",
          "y": 0.8827160493827161,
          "yanchor": "bottom",
          "yref": "paper"
         },
         {
          "font": {
           "size": 16
          },
          "showarrow": false,
          "text": "Dividend Yield",
          "x": 0.5,
          "xanchor": "center",
          "xref": "paper",
          "y": 0.7654320987654322,
          "yanchor": "bottom",
          "yref": "paper"
         },
         {
          "font": {
           "size": 16
          },
          "showarrow": false,
          "text": "Market Cap",
          "x": 0.5,
          "xanchor": "center",
          "xref": "paper",
          "y": 0.6481481481481483,
          "yanchor": "bottom",
          "yref": "paper"
         },
         {
          "font": {
           "size": 16
          },
          "showarrow": false,
          "text": "52-Week High",
          "x": 0.5,
          "xanchor": "center",
          "xref": "paper",
          "y": 0.5308641975308642,
          "yanchor": "bottom",
          "yref": "paper"
         },
         {
          "font": {
           "size": 16
          },
          "showarrow": false,
          "text": "52-Week Low",
          "x": 0.5,
          "xanchor": "center",
          "xref": "paper",
          "y": 0.41358024691358025,
          "yanchor": "bottom",
          "yref": "paper"
         },
         {
          "font": {
           "size": 16
          },
          "showarrow": false,
          "text": "90-Day Moving Average",
          "x": 0.5,
          "xanchor": "center",
          "xref": "paper",
          "y": 0.2962962962962963,
          "yanchor": "bottom",
          "yref": "paper"
         },
         {
          "font": {
           "size": 16
          },
          "showarrow": false,
          "text": "180-Day Moving Average",
          "x": 0.5,
          "xanchor": "center",
          "xref": "paper",
          "y": 0.17901234567901234,
          "yanchor": "bottom",
          "yref": "paper"
         },
         {
          "font": {
           "size": 16
          },
          "showarrow": false,
          "text": "Volume",
          "x": 0.5,
          "xanchor": "center",
          "xref": "paper",
          "y": 0.0617283950617284,
          "yanchor": "bottom",
          "yref": "paper"
         }
        ],
        "height": 2700,
        "template": {
         "data": {
          "bar": [
           {
            "error_x": {
             "color": "#2a3f5f"
            },
            "error_y": {
             "color": "#2a3f5f"
            },
            "marker": {
             "line": {
              "color": "#E5ECF6",
              "width": 0.5
             },
             "pattern": {
              "fillmode": "overlay",
              "size": 10,
              "solidity": 0.2
             }
            },
            "type": "bar"
           }
          ],
          "barpolar": [
           {
            "marker": {
             "line": {
              "color": "#E5ECF6",
              "width": 0.5
             },
             "pattern": {
              "fillmode": "overlay",
              "size": 10,
              "solidity": 0.2
             }
            },
            "type": "barpolar"
           }
          ],
          "carpet": [
           {
            "aaxis": {
             "endlinecolor": "#2a3f5f",
             "gridcolor": "white",
             "linecolor": "white",
             "minorgridcolor": "white",
             "startlinecolor": "#2a3f5f"
            },
            "baxis": {
             "endlinecolor": "#2a3f5f",
             "gridcolor": "white",
             "linecolor": "white",
             "minorgridcolor": "white",
             "startlinecolor": "#2a3f5f"
            },
            "type": "carpet"
           }
          ],
          "choropleth": [
           {
            "colorbar": {
             "outlinewidth": 0,
             "ticks": ""
            },
            "type": "choropleth"
           }
          ],
          "contour": [
           {
            "colorbar": {
             "outlinewidth": 0,
             "ticks": ""
            },
            "colorscale": [
             [
              0,
              "#0d0887"
             ],
             [
              0.1111111111111111,
              "#46039f"
             ],
             [
              0.2222222222222222,
              "#7201a8"
             ],
             [
              0.3333333333333333,
              "#9c179e"
             ],
             [
              0.4444444444444444,
              "#bd3786"
             ],
             [
              0.5555555555555556,
              "#d8576b"
             ],
             [
              0.6666666666666666,
              "#ed7953"
             ],
             [
              0.7777777777777778,
              "#fb9f3a"
             ],
             [
              0.8888888888888888,
              "#fdca26"
             ],
             [
              1,
              "#f0f921"
             ]
            ],
            "type": "contour"
           }
          ],
          "contourcarpet": [
           {
            "colorbar": {
             "outlinewidth": 0,
             "ticks": ""
            },
            "type": "contourcarpet"
           }
          ],
          "heatmap": [
           {
            "colorbar": {
             "outlinewidth": 0,
             "ticks": ""
            },
            "colorscale": [
             [
              0,
              "#0d0887"
             ],
             [
              0.1111111111111111,
              "#46039f"
             ],
             [
              0.2222222222222222,
              "#7201a8"
             ],
             [
              0.3333333333333333,
              "#9c179e"
             ],
             [
              0.4444444444444444,
              "#bd3786"
             ],
             [
              0.5555555555555556,
              "#d8576b"
             ],
             [
              0.6666666666666666,
              "#ed7953"
             ],
             [
              0.7777777777777778,
              "#fb9f3a"
             ],
             [
              0.8888888888888888,
              "#fdca26"
             ],
             [
              1,
              "#f0f921"
             ]
            ],
            "type": "heatmap"
           }
          ],
          "heatmapgl": [
           {
            "colorbar": {
             "outlinewidth": 0,
             "ticks": ""
            },
            "colorscale": [
             [
              0,
              "#0d0887"
             ],
             [
              0.1111111111111111,
              "#46039f"
             ],
             [
              0.2222222222222222,
              "#7201a8"
             ],
             [
              0.3333333333333333,
              "#9c179e"
             ],
             [
              0.4444444444444444,
              "#bd3786"
             ],
             [
              0.5555555555555556,
              "#d8576b"
             ],
             [
              0.6666666666666666,
              "#ed7953"
             ],
             [
              0.7777777777777778,
              "#fb9f3a"
             ],
             [
              0.8888888888888888,
              "#fdca26"
             ],
             [
              1,
              "#f0f921"
             ]
            ],
            "type": "heatmapgl"
           }
          ],
          "histogram": [
           {
            "marker": {
             "pattern": {
              "fillmode": "overlay",
              "size": 10,
              "solidity": 0.2
             }
            },
            "type": "histogram"
           }
          ],
          "histogram2d": [
           {
            "colorbar": {
             "outlinewidth": 0,
             "ticks": ""
            },
            "colorscale": [
             [
              0,
              "#0d0887"
             ],
             [
              0.1111111111111111,
              "#46039f"
             ],
             [
              0.2222222222222222,
              "#7201a8"
             ],
             [
              0.3333333333333333,
              "#9c179e"
             ],
             [
              0.4444444444444444,
              "#bd3786"
             ],
             [
              0.5555555555555556,
              "#d8576b"
             ],
             [
              0.6666666666666666,
              "#ed7953"
             ],
             [
              0.7777777777777778,
              "#fb9f3a"
             ],
             [
              0.8888888888888888,
              "#fdca26"
             ],
             [
              1,
              "#f0f921"
             ]
            ],
            "type": "histogram2d"
           }
          ],
          "histogram2dcontour": [
           {
            "colorbar": {
             "outlinewidth": 0,
             "ticks": ""
            },
            "colorscale": [
             [
              0,
              "#0d0887"
             ],
             [
              0.1111111111111111,
              "#46039f"
             ],
             [
              0.2222222222222222,
              "#7201a8"
             ],
             [
              0.3333333333333333,
              "#9c179e"
             ],
             [
              0.4444444444444444,
              "#bd3786"
             ],
             [
              0.5555555555555556,
              "#d8576b"
             ],
             [
              0.6666666666666666,
              "#ed7953"
             ],
             [
              0.7777777777777778,
              "#fb9f3a"
             ],
             [
              0.8888888888888888,
              "#fdca26"
             ],
             [
              1,
              "#f0f921"
             ]
            ],
            "type": "histogram2dcontour"
           }
          ],
          "mesh3d": [
           {
            "colorbar": {
             "outlinewidth": 0,
             "ticks": ""
            },
            "type": "mesh3d"
           }
          ],
          "parcoords": [
           {
            "line": {
             "colorbar": {
              "outlinewidth": 0,
              "ticks": ""
             }
            },
            "type": "parcoords"
           }
          ],
          "pie": [
           {
            "automargin": true,
            "type": "pie"
           }
          ],
          "scatter": [
           {
            "fillpattern": {
             "fillmode": "overlay",
             "size": 10,
             "solidity": 0.2
            },
            "type": "scatter"
           }
          ],
          "scatter3d": [
           {
            "line": {
             "colorbar": {
              "outlinewidth": 0,
              "ticks": ""
             }
            },
            "marker": {
             "colorbar": {
              "outlinewidth": 0,
              "ticks": ""
             }
            },
            "type": "scatter3d"
           }
          ],
          "scattercarpet": [
           {
            "marker": {
             "colorbar": {
              "outlinewidth": 0,
              "ticks": ""
             }
            },
            "type": "scattercarpet"
           }
          ],
          "scattergeo": [
           {
            "marker": {
             "colorbar": {
              "outlinewidth": 0,
              "ticks": ""
             }
            },
            "type": "scattergeo"
           }
          ],
          "scattergl": [
           {
            "marker": {
             "colorbar": {
              "outlinewidth": 0,
              "ticks": ""
             }
            },
            "type": "scattergl"
           }
          ],
          "scattermapbox": [
           {
            "marker": {
             "colorbar": {
              "outlinewidth": 0,
              "ticks": ""
             }
            },
            "type": "scattermapbox"
           }
          ],
          "scatterpolar": [
           {
            "marker": {
             "colorbar": {
              "outlinewidth": 0,
              "ticks": ""
             }
            },
            "type": "scatterpolar"
           }
          ],
          "scatterpolargl": [
           {
            "marker": {
             "colorbar": {
              "outlinewidth": 0,
              "ticks": ""
             }
            },
            "type": "scatterpolargl"
           }
          ],
          "scatterternary": [
           {
            "marker": {
             "colorbar": {
              "outlinewidth": 0,
              "ticks": ""
             }
            },
            "type": "scatterternary"
           }
          ],
          "surface": [
           {
            "colorbar": {
             "outlinewidth": 0,
             "ticks": ""
            },
            "colorscale": [
             [
              0,
              "#0d0887"
             ],
             [
              0.1111111111111111,
              "#46039f"
             ],
             [
              0.2222222222222222,
              "#7201a8"
             ],
             [
              0.3333333333333333,
              "#9c179e"
             ],
             [
              0.4444444444444444,
              "#bd3786"
             ],
             [
              0.5555555555555556,
              "#d8576b"
             ],
             [
              0.6666666666666666,
              "#ed7953"
             ],
             [
              0.7777777777777778,
              "#fb9f3a"
             ],
             [
              0.8888888888888888,
              "#fdca26"
             ],
             [
              1,
              "#f0f921"
             ]
            ],
            "type": "surface"
           }
          ],
          "table": [
           {
            "cells": {
             "fill": {
              "color": "#EBF0F8"
             },
             "line": {
              "color": "white"
             }
            },
            "header": {
             "fill": {
              "color": "#C8D4E3"
             },
             "line": {
              "color": "white"
             }
            },
            "type": "table"
           }
          ]
         },
         "layout": {
          "annotationdefaults": {
           "arrowcolor": "#2a3f5f",
           "arrowhead": 0,
           "arrowwidth": 1
          },
          "autotypenumbers": "strict",
          "coloraxis": {
           "colorbar": {
            "outlinewidth": 0,
            "ticks": ""
           }
          },
          "colorscale": {
           "diverging": [
            [
             0,
             "#8e0152"
            ],
            [
             0.1,
             "#c51b7d"
            ],
            [
             0.2,
             "#de77ae"
            ],
            [
             0.3,
             "#f1b6da"
            ],
            [
             0.4,
             "#fde0ef"
            ],
            [
             0.5,
             "#f7f7f7"
            ],
            [
             0.6,
             "#e6f5d0"
            ],
            [
             0.7,
             "#b8e186"
            ],
            [
             0.8,
             "#7fbc41"
            ],
            [
             0.9,
             "#4d9221"
            ],
            [
             1,
             "#276419"
            ]
           ],
           "sequential": [
            [
             0,
             "#0d0887"
            ],
            [
             0.1111111111111111,
             "#46039f"
            ],
            [
             0.2222222222222222,
             "#7201a8"
            ],
            [
             0.3333333333333333,
             "#9c179e"
            ],
            [
             0.4444444444444444,
             "#bd3786"
            ],
            [
             0.5555555555555556,
             "#d8576b"
            ],
            [
             0.6666666666666666,
             "#ed7953"
            ],
            [
             0.7777777777777778,
             "#fb9f3a"
            ],
            [
             0.8888888888888888,
             "#fdca26"
            ],
            [
             1,
             "#f0f921"
            ]
           ],
           "sequentialminus": [
            [
             0,
             "#0d0887"
            ],
            [
             0.1111111111111111,
             "#46039f"
            ],
            [
             0.2222222222222222,
             "#7201a8"
            ],
            [
             0.3333333333333333,
             "#9c179e"
            ],
            [
             0.4444444444444444,
             "#bd3786"
            ],
            [
             0.5555555555555556,
             "#d8576b"
            ],
            [
             0.6666666666666666,
             "#ed7953"
            ],
            [
             0.7777777777777778,
             "#fb9f3a"
            ],
            [
             0.8888888888888888,
             "#fdca26"
            ],
            [
             1,
             "#f0f921"
            ]
           ]
          },
          "colorway": [
           "#636efa",
           "#EF553B",
           "#00cc96",
           "#ab63fa",
           "#FFA15A",
           "#19d3f3",
           "#FF6692",
           "#B6E880",
           "#FF97FF",
           "#FECB52"
          ],
          "font": {
           "color": "#2a3f5f"
          },
          "geo": {
           "bgcolor": "white",
           "lakecolor": "white",
           "landcolor": "#E5ECF6",
           "showlakes": true,
           "showland": true,
           "subunitcolor": "white"
          },
          "hoverlabel": {
           "align": "left"
          },
          "hovermode": "closest",
          "mapbox": {
           "style": "light"
          },
          "paper_bgcolor": "white",
          "plot_bgcolor": "#E5ECF6",
          "polar": {
           "angularaxis": {
            "gridcolor": "white",
            "linecolor": "white",
            "ticks": ""
           },
           "bgcolor": "#E5ECF6",
           "radialaxis": {
            "gridcolor": "white",
            "linecolor": "white",
            "ticks": ""
           }
          },
          "scene": {
           "xaxis": {
            "backgroundcolor": "#E5ECF6",
            "gridcolor": "white",
            "gridwidth": 2,
            "linecolor": "white",
            "showbackground": true,
            "ticks": "",
            "zerolinecolor": "white"
           },
           "yaxis": {
            "backgroundcolor": "#E5ECF6",
            "gridcolor": "white",
            "gridwidth": 2,
            "linecolor": "white",
            "showbackground": true,
            "ticks": "",
            "zerolinecolor": "white"
           },
           "zaxis": {
            "backgroundcolor": "#E5ECF6",
            "gridcolor": "white",
            "gridwidth": 2,
            "linecolor": "white",
            "showbackground": true,
            "ticks": "",
            "zerolinecolor": "white"
           }
          },
          "shapedefaults": {
           "line": {
            "color": "#2a3f5f"
           }
          },
          "ternary": {
           "aaxis": {
            "gridcolor": "white",
            "linecolor": "white",
            "ticks": ""
           },
           "baxis": {
            "gridcolor": "white",
            "linecolor": "white",
            "ticks": ""
           },
           "bgcolor": "#E5ECF6",
           "caxis": {
            "gridcolor": "white",
            "linecolor": "white",
            "ticks": ""
           }
          },
          "title": {
           "x": 0.05
          },
          "xaxis": {
           "automargin": true,
           "gridcolor": "white",
           "linecolor": "white",
           "ticks": "",
           "title": {
            "standoff": 15
           },
           "zerolinecolor": "white",
           "zerolinewidth": 2
          },
          "yaxis": {
           "automargin": true,
           "gridcolor": "white",
           "linecolor": "white",
           "ticks": "",
           "title": {
            "standoff": 15
           },
           "zerolinecolor": "white",
           "zerolinewidth": 2
          }
         }
        },
        "title": {
         "text": "Stock Metrics for Nifty 50 Stocks"
        },
        "xaxis": {
         "anchor": "y",
         "domain": [
          0,
          1
         ]
        },
        "xaxis2": {
         "anchor": "y2",
         "domain": [
          0,
          1
         ]
        },
        "xaxis3": {
         "anchor": "y3",
         "domain": [
          0,
          1
         ]
        },
        "xaxis4": {
         "anchor": "y4",
         "domain": [
          0,
          1
         ]
        },
        "xaxis5": {
         "anchor": "y5",
         "domain": [
          0,
          1
         ]
        },
        "xaxis6": {
         "anchor": "y6",
         "domain": [
          0,
          1
         ]
        },
        "xaxis7": {
         "anchor": "y7",
         "domain": [
          0,
          1
         ]
        },
        "xaxis8": {
         "anchor": "y8",
         "domain": [
          0,
          1
         ]
        },
        "xaxis9": {
         "anchor": "y9",
         "domain": [
          0,
          1
         ]
        },
        "yaxis": {
         "anchor": "x",
         "domain": [
          0.9382716049382716,
          1
         ]
        },
        "yaxis2": {
         "anchor": "x2",
         "domain": [
          0.8209876543209876,
          0.8827160493827161
         ]
        },
        "yaxis3": {
         "anchor": "x3",
         "domain": [
          0.7037037037037037,
          0.7654320987654322
         ]
        },
        "yaxis4": {
         "anchor": "x4",
         "domain": [
          0.5864197530864198,
          0.6481481481481483
         ]
        },
        "yaxis5": {
         "anchor": "x5",
         "domain": [
          0.4691358024691358,
          0.5308641975308642
         ]
        },
        "yaxis6": {
         "anchor": "x6",
         "domain": [
          0.35185185185185186,
          0.41358024691358025
         ]
        },
        "yaxis7": {
         "anchor": "x7",
         "domain": [
          0.2345679012345679,
          0.2962962962962963
         ]
        },
        "yaxis8": {
         "anchor": "x8",
         "domain": [
          0.11728395061728394,
          0.17901234567901234
         ]
        },
        "yaxis9": {
         "anchor": "x9",
         "domain": [
          0,
          0.0617283950617284
         ]
        }
       }
      }
     },
     "metadata": {},
     "output_type": "display_data"
    }
   ],
   "source": [
    "import yfinance as yf\n",
    "\n",
    "# Fetch historical data and store in a dictionary\n",
    "stock_data_dict     = {ticker: yf.Ticker(nse_tickers[ticker]).history(period=\"1d\", interval=\"1m\").reset_index() for ticker in nse_tickers}\n",
    "\n",
    "# Create DataFrame \n",
    "df = create_stock_metrics_df(nse_tickers) \n",
    "\n",
    "\n",
    "# #Plot data for each ticker\n",
    "# for ticker_name, data in stock_data_dict.items():\n",
    "#     plot_ticker(data, ticker_name)\n",
    "\n",
    "# Plot a specific metric \n",
    "#plot_stock_metrics(df, 'Volume')\n",
    "plot_all_stock_metrics(df)"
   ]
  },
  {
   "cell_type": "code",
   "execution_count": 39,
   "metadata": {},
   "outputs": [
    {
     "data": {
      "text/plain": [
       "{'address1': 'Ahura Centre',\n",
       " 'address2': '4th Floor 82 Mahakali Caves Road, MIDC Andheri (East)',\n",
       " 'city': 'Mumbai',\n",
       " 'zip': '400 093',\n",
       " 'country': 'India',\n",
       " 'phone': '91 22 6240 7101',\n",
       " 'website': 'https://www.tatamotors.com',\n",
       " 'industry': 'Auto Manufacturers',\n",
       " 'industryKey': 'auto-manufacturers',\n",
       " 'industryDisp': 'Auto Manufacturers',\n",
       " 'sector': 'Consumer Cyclical',\n",
       " 'sectorKey': 'consumer-cyclical',\n",
       " 'sectorDisp': 'Consumer Cyclical',\n",
       " 'longBusinessSummary': 'Tata Motors Limited designs, develops, manufactures, and sells various automotive vehicles. The company offers passenger cars; sports utility vehicles; intermediate and light commercial vehicles; small, medium, and heavy commercial vehicles; defense vehicles; pickups, wingers, buses, vans, and trucks; and electric vehicles, as well as related spare parts and accessories. It also manufactures engines for industrial applications, and aggregates comprising axles and transmissions for commercial vehicles; and factory automation equipment, as well as provides information technology and vehicle financing services. The company offers its products under the Tata, Daewoo, Harrier, Safari, Fiat, Nexon, Altroz, Punch, Tiago, Tigor, Jaguar, and Land Rover brands. It operates in India, China, the United States, the United Kingdom, rest of Europe, and internationally. It offers its products to fleet owners, transporters, government agencies, defense, public transport utilities, small and medium enterprises (SMEs), agriculture and rural segment, mining and construction industry, etc. The company was incorporated in 1945 and is headquartered in Mumbai, India.',\n",
       " 'fullTimeEmployees': 91496,\n",
       " 'companyOfficers': [{'maxAge': 1,\n",
       "   'name': 'Mr. Pathamadai Balachandran Balaji',\n",
       "   'age': 55,\n",
       "   'title': 'Group Chief Financial Officer',\n",
       "   'yearBorn': 1969,\n",
       "   'fiscalYear': 2024,\n",
       "   'totalPay': 149174000,\n",
       "   'exercisedValue': 0,\n",
       "   'unexercisedValue': 0},\n",
       "  {'maxAge': 1,\n",
       "   'name': 'Mr. Maloy Kumar Gupta',\n",
       "   'age': 53,\n",
       "   'title': 'Compliance Officer & Company Secretary',\n",
       "   'yearBorn': 1971,\n",
       "   'fiscalYear': 2024,\n",
       "   'totalPay': 14982000,\n",
       "   'exercisedValue': 0,\n",
       "   'unexercisedValue': 0},\n",
       "  {'maxAge': 1,\n",
       "   'name': 'Mr. Girish Arun Wagh',\n",
       "   'age': 54,\n",
       "   'title': 'President of Commercial Vehicles Business Unit & Executive Director',\n",
       "   'yearBorn': 1970,\n",
       "   'fiscalYear': 2024,\n",
       "   'totalPay': 54825000,\n",
       "   'exercisedValue': 0,\n",
       "   'unexercisedValue': 0},\n",
       "  {'maxAge': 1,\n",
       "   'name': 'Mr. Petkar M. Rajendra',\n",
       "   'age': 57,\n",
       "   'title': 'CTO & President',\n",
       "   'yearBorn': 1967,\n",
       "   'fiscalYear': 2024,\n",
       "   'exercisedValue': 0,\n",
       "   'unexercisedValue': 0},\n",
       "  {'maxAge': 1,\n",
       "   'name': 'Mr. Rajesh  Kannan',\n",
       "   'title': 'President and Chief Digital & Information Officer',\n",
       "   'fiscalYear': 2024,\n",
       "   'exercisedValue': 0,\n",
       "   'unexercisedValue': 0},\n",
       "  {'maxAge': 1,\n",
       "   'name': 'Ms. Namrata  Divekar',\n",
       "   'title': 'Head of Treasury and Investor Relations',\n",
       "   'fiscalYear': 2024,\n",
       "   'exercisedValue': 0,\n",
       "   'unexercisedValue': 0},\n",
       "  {'maxAge': 1,\n",
       "   'name': 'Mr. Sudeep  Bhalla',\n",
       "   'title': 'Head of Corporate Communications',\n",
       "   'fiscalYear': 2024,\n",
       "   'exercisedValue': 0,\n",
       "   'unexercisedValue': 0},\n",
       "  {'maxAge': 1,\n",
       "   'name': 'Mr. Shubhranshu  Singh',\n",
       "   'title': 'Vice President of Marketing of Domestic & International business',\n",
       "   'fiscalYear': 2024,\n",
       "   'exercisedValue': 0,\n",
       "   'unexercisedValue': 0},\n",
       "  {'maxAge': 1,\n",
       "   'name': 'Mr. Sitaram  Kandi',\n",
       "   'title': 'Chief Human Resource Officer',\n",
       "   'fiscalYear': 2024,\n",
       "   'exercisedValue': 0,\n",
       "   'unexercisedValue': 0},\n",
       "  {'maxAge': 1,\n",
       "   'name': 'Mr. R.  Ramakrishnan',\n",
       "   'age': 61,\n",
       "   'title': 'Global Head of Customer Care',\n",
       "   'yearBorn': 1963,\n",
       "   'fiscalYear': 2024,\n",
       "   'exercisedValue': 0,\n",
       "   'unexercisedValue': 0}],\n",
       " 'auditRisk': 4,\n",
       " 'boardRisk': 6,\n",
       " 'compensationRisk': 8,\n",
       " 'shareHolderRightsRisk': 5,\n",
       " 'overallRisk': 7,\n",
       " 'governanceEpochDate': 1735689600,\n",
       " 'compensationAsOfEpochDate': 1735603200,\n",
       " 'maxAge': 86400,\n",
       " 'priceHint': 2,\n",
       " 'previousClose': 763.6,\n",
       " 'open': 769.9,\n",
       " 'dayLow': 767.35,\n",
       " 'dayHigh': 781.0,\n",
       " 'regularMarketPreviousClose': 763.6,\n",
       " 'regularMarketOpen': 769.9,\n",
       " 'regularMarketDayLow': 767.35,\n",
       " 'regularMarketDayHigh': 781.0,\n",
       " 'dividendRate': 3.0,\n",
       " 'dividendYield': 0.0039,\n",
       " 'exDividendDate': 1718064000,\n",
       " 'payoutRatio': 0.033299997,\n",
       " 'fiveYearAvgDividendYield': 1.11,\n",
       " 'beta': 1.618,\n",
       " 'trailingPE': 8.601022,\n",
       " 'volume': 8678662,\n",
       " 'regularMarketVolume': 8678662,\n",
       " 'averageVolume': 13145297,\n",
       " 'averageVolume10days': 14762539,\n",
       " 'averageDailyVolume10Day': 14762539,\n",
       " 'marketCap': 2850475212800,\n",
       " 'fiftyTwoWeekLow': 717.7,\n",
       " 'fiftyTwoWeekHigh': 1179.0,\n",
       " 'priceToSalesTrailing12Months': 0.64774585,\n",
       " 'fiftyDayAverage': 776.044,\n",
       " 'twoHundredDayAverage': 935.311,\n",
       " 'currency': 'INR',\n",
       " 'enterpriseValue': 3300222304256,\n",
       " 'forwardPE': 10.781343,\n",
       " 'profitMargins': 0.07576,\n",
       " 'floatShares': 1874246759,\n",
       " 'sharesOutstanding': 3681120000,\n",
       " 'heldPercentInsiders': 0.4414,\n",
       " 'heldPercentInstitutions': 0.25042,\n",
       " 'impliedSharesOutstanding': 3681120000,\n",
       " 'bookValue': 293.845,\n",
       " 'priceToBook': 2.6352327,\n",
       " 'lastFiscalYearEnd': 1711843200,\n",
       " 'nextFiscalYearEnd': 1743379200,\n",
       " 'mostRecentQuarter': 1727654400,\n",
       " 'earningsQuarterlyGrowth': -0.112,\n",
       " 'netIncomeToCommon': 333410893824,\n",
       " 'trailingEps': 90.03,\n",
       " 'lastSplitFactor': '5:1',\n",
       " 'lastSplitDate': 1315785600,\n",
       " 'enterpriseToRevenue': 0.75,\n",
       " 'enterpriseToEbitda': 6.792,\n",
       " '52WeekChange': -0.067700386,\n",
       " 'SandP52WeekChange': 0.24450636,\n",
       " 'lastDividendValue': 3.0,\n",
       " 'lastDividendDate': 1718064000,\n",
       " 'exchange': 'NSI',\n",
       " 'quoteType': 'EQUITY',\n",
       " 'symbol': 'TATAMOTORS.NS',\n",
       " 'underlyingSymbol': 'TATAMOTORS.NS',\n",
       " 'shortName': 'TATA MOTORS LIMITED',\n",
       " 'longName': 'Tata Motors Limited',\n",
       " 'firstTradeDateEpochUtc': 662787900,\n",
       " 'timeZoneFullName': 'Asia/Kolkata',\n",
       " 'timeZoneShortName': 'IST',\n",
       " 'uuid': 'ddba5579-685b-35a6-8ca9-fdc0ae8f12f6',\n",
       " 'messageBoardId': 'finmb_874652',\n",
       " 'gmtOffSetMilliseconds': 19800000,\n",
       " 'currentPrice': 774.35,\n",
       " 'targetHighPrice': 1300.0,\n",
       " 'targetLowPrice': 712.0,\n",
       " 'targetMeanPrice': 949.73334,\n",
       " 'targetMedianPrice': 930.0,\n",
       " 'recommendationMean': 2.16667,\n",
       " 'recommendationKey': 'buy',\n",
       " 'numberOfAnalystOpinions': 30,\n",
       " 'totalCash': 535179984896,\n",
       " 'totalCashPerShare': 155.607,\n",
       " 'ebitda': 485882986496,\n",
       " 'totalDebt': 1065489989632,\n",
       " 'quickRatio': 0.491,\n",
       " 'currentRatio': 0.939,\n",
       " 'totalRevenue': 4400607657984,\n",
       " 'debtToEquity': 95.362,\n",
       " 'revenuePerShare': 1279.507,\n",
       " 'returnOnAssets': 0.061079998,\n",
       " 'returnOnEquity': 0.39181,\n",
       " 'grossProfits': 1995944230912,\n",
       " 'freeCashflow': 118380339200,\n",
       " 'operatingCashflow': 602283573248,\n",
       " 'revenueGrowth': -0.035,\n",
       " 'grossMargins': 0.45356,\n",
       " 'ebitdaMargins': 0.110410005,\n",
       " 'operatingMargins': 0.07129,\n",
       " 'financialCurrency': 'INR',\n",
       " 'trailingPegRatio': None}"
      ]
     },
     "metadata": {},
     "output_type": "display_data"
    },
    {
     "data": {
      "text/html": [
       "<div>\n",
       "<style scoped>\n",
       "    .dataframe tbody tr th:only-of-type {\n",
       "        vertical-align: middle;\n",
       "    }\n",
       "\n",
       "    .dataframe tbody tr th {\n",
       "        vertical-align: top;\n",
       "    }\n",
       "\n",
       "    .dataframe thead th {\n",
       "        text-align: right;\n",
       "    }\n",
       "</style>\n",
       "<table border=\"1\" class=\"dataframe\">\n",
       "  <thead>\n",
       "    <tr style=\"text-align: right;\">\n",
       "      <th></th>\n",
       "      <th>2024-03-31</th>\n",
       "      <th>2023-03-31</th>\n",
       "      <th>2022-03-31</th>\n",
       "      <th>2021-03-31</th>\n",
       "      <th>2020-03-31</th>\n",
       "    </tr>\n",
       "  </thead>\n",
       "  <tbody>\n",
       "    <tr>\n",
       "      <th>Tax Effect Of Unusual Items</th>\n",
       "      <td>-6554370000.0</td>\n",
       "      <td>1195840000.0</td>\n",
       "      <td>5479050000.0</td>\n",
       "      <td>-40059450000.0</td>\n",
       "      <td>NaN</td>\n",
       "    </tr>\n",
       "    <tr>\n",
       "      <th>Tax Rate For Calcs</th>\n",
       "      <td>0.3</td>\n",
       "      <td>0.2</td>\n",
       "      <td>0.3</td>\n",
       "      <td>0.3</td>\n",
       "      <td>NaN</td>\n",
       "    </tr>\n",
       "    <tr>\n",
       "      <th>Normalized EBITDA</th>\n",
       "      <td>673957900000.0</td>\n",
       "      <td>378818500000.0</td>\n",
       "      <td>253177900000.0</td>\n",
       "      <td>327282800000.0</td>\n",
       "      <td>NaN</td>\n",
       "    </tr>\n",
       "    <tr>\n",
       "      <th>Total Unusual Items</th>\n",
       "      <td>-21847900000.0</td>\n",
       "      <td>5979200000.0</td>\n",
       "      <td>18263500000.0</td>\n",
       "      <td>-133531500000.0</td>\n",
       "      <td>NaN</td>\n",
       "    </tr>\n",
       "    <tr>\n",
       "      <th>Total Unusual Items Excluding Goodwill</th>\n",
       "      <td>-21847900000.0</td>\n",
       "      <td>5979200000.0</td>\n",
       "      <td>18263500000.0</td>\n",
       "      <td>-133531500000.0</td>\n",
       "      <td>NaN</td>\n",
       "    </tr>\n",
       "    <tr>\n",
       "      <th>...</th>\n",
       "      <td>...</td>\n",
       "      <td>...</td>\n",
       "      <td>...</td>\n",
       "      <td>...</td>\n",
       "      <td>...</td>\n",
       "    </tr>\n",
       "    <tr>\n",
       "      <th>Salaries And Wages</th>\n",
       "      <td>NaN</td>\n",
       "      <td>NaN</td>\n",
       "      <td>308183100000.0</td>\n",
       "      <td>281931800000.0</td>\n",
       "      <td>308372800000.0</td>\n",
       "    </tr>\n",
       "    <tr>\n",
       "      <th>Gross Profit</th>\n",
       "      <td>1490464900000.0</td>\n",
       "      <td>1047343500000.0</td>\n",
       "      <td>2440451300000.0</td>\n",
       "      <td>817568900000.0</td>\n",
       "      <td>NaN</td>\n",
       "    </tr>\n",
       "    <tr>\n",
       "      <th>Cost Of Revenue</th>\n",
       "      <td>2859376300000.0</td>\n",
       "      <td>2381402400000.0</td>\n",
       "      <td>311901000000.0</td>\n",
       "      <td>1664062500000.0</td>\n",
       "      <td>NaN</td>\n",
       "    </tr>\n",
       "    <tr>\n",
       "      <th>Total Revenue</th>\n",
       "      <td>4349841200000.0</td>\n",
       "      <td>3428745900000.0</td>\n",
       "      <td>2752352300000.0</td>\n",
       "      <td>2481631400000.0</td>\n",
       "      <td>NaN</td>\n",
       "    </tr>\n",
       "    <tr>\n",
       "      <th>Operating Revenue</th>\n",
       "      <td>4349841200000.0</td>\n",
       "      <td>3428745900000.0</td>\n",
       "      <td>2752352300000.0</td>\n",
       "      <td>2481631400000.0</td>\n",
       "      <td>NaN</td>\n",
       "    </tr>\n",
       "  </tbody>\n",
       "</table>\n",
       "<p>62 rows × 5 columns</p>\n",
       "</div>"
      ],
      "text/plain": [
       "                                             2024-03-31       2023-03-31  \\\n",
       "Tax Effect Of Unusual Items               -6554370000.0     1195840000.0   \n",
       "Tax Rate For Calcs                                  0.3              0.2   \n",
       "Normalized EBITDA                        673957900000.0   378818500000.0   \n",
       "Total Unusual Items                      -21847900000.0     5979200000.0   \n",
       "Total Unusual Items Excluding Goodwill   -21847900000.0     5979200000.0   \n",
       "...                                                 ...              ...   \n",
       "Salaries And Wages                                  NaN              NaN   \n",
       "Gross Profit                            1490464900000.0  1047343500000.0   \n",
       "Cost Of Revenue                         2859376300000.0  2381402400000.0   \n",
       "Total Revenue                           4349841200000.0  3428745900000.0   \n",
       "Operating Revenue                       4349841200000.0  3428745900000.0   \n",
       "\n",
       "                                             2022-03-31       2021-03-31  \\\n",
       "Tax Effect Of Unusual Items                5479050000.0   -40059450000.0   \n",
       "Tax Rate For Calcs                                  0.3              0.3   \n",
       "Normalized EBITDA                        253177900000.0   327282800000.0   \n",
       "Total Unusual Items                       18263500000.0  -133531500000.0   \n",
       "Total Unusual Items Excluding Goodwill    18263500000.0  -133531500000.0   \n",
       "...                                                 ...              ...   \n",
       "Salaries And Wages                       308183100000.0   281931800000.0   \n",
       "Gross Profit                            2440451300000.0   817568900000.0   \n",
       "Cost Of Revenue                          311901000000.0  1664062500000.0   \n",
       "Total Revenue                           2752352300000.0  2481631400000.0   \n",
       "Operating Revenue                       2752352300000.0  2481631400000.0   \n",
       "\n",
       "                                            2020-03-31  \n",
       "Tax Effect Of Unusual Items                        NaN  \n",
       "Tax Rate For Calcs                                 NaN  \n",
       "Normalized EBITDA                                  NaN  \n",
       "Total Unusual Items                                NaN  \n",
       "Total Unusual Items Excluding Goodwill             NaN  \n",
       "...                                                ...  \n",
       "Salaries And Wages                      308372800000.0  \n",
       "Gross Profit                                       NaN  \n",
       "Cost Of Revenue                                    NaN  \n",
       "Total Revenue                                      NaN  \n",
       "Operating Revenue                                  NaN  \n",
       "\n",
       "[62 rows x 5 columns]"
      ]
     },
     "metadata": {},
     "output_type": "display_data"
    },
    {
     "data": {
      "text/html": [
       "<div>\n",
       "<style scoped>\n",
       "    .dataframe tbody tr th:only-of-type {\n",
       "        vertical-align: middle;\n",
       "    }\n",
       "\n",
       "    .dataframe tbody tr th {\n",
       "        vertical-align: top;\n",
       "    }\n",
       "\n",
       "    .dataframe thead th {\n",
       "        text-align: right;\n",
       "    }\n",
       "</style>\n",
       "<table border=\"1\" class=\"dataframe\">\n",
       "  <thead>\n",
       "    <tr style=\"text-align: right;\">\n",
       "      <th></th>\n",
       "      <th>2024-03-31</th>\n",
       "      <th>2023-03-31</th>\n",
       "      <th>2022-03-31</th>\n",
       "      <th>2021-03-31</th>\n",
       "      <th>2020-03-31</th>\n",
       "    </tr>\n",
       "  </thead>\n",
       "  <tbody>\n",
       "    <tr>\n",
       "      <th>Ordinary Shares Number</th>\n",
       "      <td>3832241897.0</td>\n",
       "      <td>3829847221.0</td>\n",
       "      <td>3829055161.0</td>\n",
       "      <td>3828810661.0</td>\n",
       "      <td>NaN</td>\n",
       "    </tr>\n",
       "    <tr>\n",
       "      <th>Share Issued</th>\n",
       "      <td>3832241897.0</td>\n",
       "      <td>3829847221.0</td>\n",
       "      <td>3829055161.0</td>\n",
       "      <td>3828810661.0</td>\n",
       "      <td>NaN</td>\n",
       "    </tr>\n",
       "    <tr>\n",
       "      <th>Net Debt</th>\n",
       "      <td>610332300000.0</td>\n",
       "      <td>962735300000.0</td>\n",
       "      <td>1027680300000.0</td>\n",
       "      <td>1041937000000.0</td>\n",
       "      <td>NaN</td>\n",
       "    </tr>\n",
       "    <tr>\n",
       "      <th>Total Debt</th>\n",
       "      <td>1098104000000.0</td>\n",
       "      <td>1366134500000.0</td>\n",
       "      <td>1476990300000.0</td>\n",
       "      <td>1421197700000.0</td>\n",
       "      <td>NaN</td>\n",
       "    </tr>\n",
       "    <tr>\n",
       "      <th>Tangible Book Value</th>\n",
       "      <td>201219100000.0</td>\n",
       "      <td>-112881300000.0</td>\n",
       "      <td>-133122700000.0</td>\n",
       "      <td>-112886800000.0</td>\n",
       "      <td>NaN</td>\n",
       "    </tr>\n",
       "    <tr>\n",
       "      <th>...</th>\n",
       "      <td>...</td>\n",
       "      <td>...</td>\n",
       "      <td>...</td>\n",
       "      <td>...</td>\n",
       "      <td>...</td>\n",
       "    </tr>\n",
       "    <tr>\n",
       "      <th>Cash Cash Equivalents And Short Term Investments</th>\n",
       "      <td>550320400000.0</td>\n",
       "      <td>513764200000.0</td>\n",
       "      <td>634452300000.0</td>\n",
       "      <td>650971900000.0</td>\n",
       "      <td>NaN</td>\n",
       "    </tr>\n",
       "    <tr>\n",
       "      <th>Other Short Term Investments</th>\n",
       "      <td>150172800000.0</td>\n",
       "      <td>194894700000.0</td>\n",
       "      <td>252862200000.0</td>\n",
       "      <td>333971800000.0</td>\n",
       "      <td>NaN</td>\n",
       "    </tr>\n",
       "    <tr>\n",
       "      <th>Cash And Cash Equivalents</th>\n",
       "      <td>400147600000.0</td>\n",
       "      <td>318869500000.0</td>\n",
       "      <td>381590100000.0</td>\n",
       "      <td>317000100000.0</td>\n",
       "      <td>NaN</td>\n",
       "    </tr>\n",
       "    <tr>\n",
       "      <th>Cash Equivalents</th>\n",
       "      <td>332238900000.0</td>\n",
       "      <td>236140600000.0</td>\n",
       "      <td>276806400000.0</td>\n",
       "      <td>316889000000.0</td>\n",
       "      <td>NaN</td>\n",
       "    </tr>\n",
       "    <tr>\n",
       "      <th>Cash Financial</th>\n",
       "      <td>67908700000.0</td>\n",
       "      <td>82728900000.0</td>\n",
       "      <td>104783700000.0</td>\n",
       "      <td>111100000.0</td>\n",
       "      <td>NaN</td>\n",
       "    </tr>\n",
       "  </tbody>\n",
       "</table>\n",
       "<p>106 rows × 5 columns</p>\n",
       "</div>"
      ],
      "text/plain": [
       "                                                       2024-03-31  \\\n",
       "Ordinary Shares Number                               3832241897.0   \n",
       "Share Issued                                         3832241897.0   \n",
       "Net Debt                                           610332300000.0   \n",
       "Total Debt                                        1098104000000.0   \n",
       "Tangible Book Value                                201219100000.0   \n",
       "...                                                           ...   \n",
       "Cash Cash Equivalents And Short Term Investments   550320400000.0   \n",
       "Other Short Term Investments                       150172800000.0   \n",
       "Cash And Cash Equivalents                          400147600000.0   \n",
       "Cash Equivalents                                   332238900000.0   \n",
       "Cash Financial                                      67908700000.0   \n",
       "\n",
       "                                                       2023-03-31  \\\n",
       "Ordinary Shares Number                               3829847221.0   \n",
       "Share Issued                                         3829847221.0   \n",
       "Net Debt                                           962735300000.0   \n",
       "Total Debt                                        1366134500000.0   \n",
       "Tangible Book Value                               -112881300000.0   \n",
       "...                                                           ...   \n",
       "Cash Cash Equivalents And Short Term Investments   513764200000.0   \n",
       "Other Short Term Investments                       194894700000.0   \n",
       "Cash And Cash Equivalents                          318869500000.0   \n",
       "Cash Equivalents                                   236140600000.0   \n",
       "Cash Financial                                      82728900000.0   \n",
       "\n",
       "                                                       2022-03-31  \\\n",
       "Ordinary Shares Number                               3829055161.0   \n",
       "Share Issued                                         3829055161.0   \n",
       "Net Debt                                          1027680300000.0   \n",
       "Total Debt                                        1476990300000.0   \n",
       "Tangible Book Value                               -133122700000.0   \n",
       "...                                                           ...   \n",
       "Cash Cash Equivalents And Short Term Investments   634452300000.0   \n",
       "Other Short Term Investments                       252862200000.0   \n",
       "Cash And Cash Equivalents                          381590100000.0   \n",
       "Cash Equivalents                                   276806400000.0   \n",
       "Cash Financial                                     104783700000.0   \n",
       "\n",
       "                                                       2021-03-31 2020-03-31  \n",
       "Ordinary Shares Number                               3828810661.0        NaN  \n",
       "Share Issued                                         3828810661.0        NaN  \n",
       "Net Debt                                          1041937000000.0        NaN  \n",
       "Total Debt                                        1421197700000.0        NaN  \n",
       "Tangible Book Value                               -112886800000.0        NaN  \n",
       "...                                                           ...        ...  \n",
       "Cash Cash Equivalents And Short Term Investments   650971900000.0        NaN  \n",
       "Other Short Term Investments                       333971800000.0        NaN  \n",
       "Cash And Cash Equivalents                          317000100000.0        NaN  \n",
       "Cash Equivalents                                   316889000000.0        NaN  \n",
       "Cash Financial                                        111100000.0        NaN  \n",
       "\n",
       "[106 rows x 5 columns]"
      ]
     },
     "metadata": {},
     "output_type": "display_data"
    },
    {
     "data": {
      "text/html": [
       "<div>\n",
       "<style scoped>\n",
       "    .dataframe tbody tr th:only-of-type {\n",
       "        vertical-align: middle;\n",
       "    }\n",
       "\n",
       "    .dataframe tbody tr th {\n",
       "        vertical-align: top;\n",
       "    }\n",
       "\n",
       "    .dataframe thead th {\n",
       "        text-align: right;\n",
       "    }\n",
       "</style>\n",
       "<table border=\"1\" class=\"dataframe\">\n",
       "  <thead>\n",
       "    <tr style=\"text-align: right;\">\n",
       "      <th></th>\n",
       "      <th>2024-03-31</th>\n",
       "      <th>2023-03-31</th>\n",
       "      <th>2022-03-31</th>\n",
       "      <th>2021-03-31</th>\n",
       "      <th>2020-03-31</th>\n",
       "    </tr>\n",
       "  </thead>\n",
       "  <tbody>\n",
       "    <tr>\n",
       "      <th>Free Cash Flow</th>\n",
       "      <td>365017300000.0</td>\n",
       "      <td>172923300000.0</td>\n",
       "      <td>-8855900000.0</td>\n",
       "      <td>87951100000.0</td>\n",
       "      <td>NaN</td>\n",
       "    </tr>\n",
       "    <tr>\n",
       "      <th>Repayment Of Debt</th>\n",
       "      <td>-504082600000.0</td>\n",
       "      <td>-634175200000.0</td>\n",
       "      <td>-448896100000.0</td>\n",
       "      <td>-342528100000.0</td>\n",
       "      <td>NaN</td>\n",
       "    </tr>\n",
       "    <tr>\n",
       "      <th>Issuance Of Debt</th>\n",
       "      <td>218235000000.0</td>\n",
       "      <td>444405100000.0</td>\n",
       "      <td>481748600000.0</td>\n",
       "      <td>504845200000.0</td>\n",
       "      <td>NaN</td>\n",
       "    </tr>\n",
       "    <tr>\n",
       "      <th>Issuance Of Capital Stock</th>\n",
       "      <td>818700000.0</td>\n",
       "      <td>37696000000.0</td>\n",
       "      <td>37685900000.0</td>\n",
       "      <td>26025100000.0</td>\n",
       "      <td>NaN</td>\n",
       "    </tr>\n",
       "    <tr>\n",
       "      <th>Capital Expenditure</th>\n",
       "      <td>-314136300000.0</td>\n",
       "      <td>-180956800000.0</td>\n",
       "      <td>-151684200000.0</td>\n",
       "      <td>-202054000000.0</td>\n",
       "      <td>NaN</td>\n",
       "    </tr>\n",
       "    <tr>\n",
       "      <th>...</th>\n",
       "      <td>...</td>\n",
       "      <td>...</td>\n",
       "      <td>...</td>\n",
       "      <td>...</td>\n",
       "      <td>...</td>\n",
       "    </tr>\n",
       "    <tr>\n",
       "      <th>Earnings Losses From Equity Investments</th>\n",
       "      <td>NaN</td>\n",
       "      <td>NaN</td>\n",
       "      <td>740600000.0</td>\n",
       "      <td>3789600000.0</td>\n",
       "      <td>10000000000.0</td>\n",
       "    </tr>\n",
       "    <tr>\n",
       "      <th>Gain Loss On Investment Securities</th>\n",
       "      <td>279200000.0</td>\n",
       "      <td>-881700000.0</td>\n",
       "      <td>-2065900000.0</td>\n",
       "      <td>-12718700000.0</td>\n",
       "      <td>NaN</td>\n",
       "    </tr>\n",
       "    <tr>\n",
       "      <th>Net Foreign Currency Exchange Gain Loss</th>\n",
       "      <td>-5375500000.0</td>\n",
       "      <td>37466100000.0</td>\n",
       "      <td>-8785100000.0</td>\n",
       "      <td>-43981200000.0</td>\n",
       "      <td>NaN</td>\n",
       "    </tr>\n",
       "    <tr>\n",
       "      <th>Gain Loss On Sale Of Business</th>\n",
       "      <td>NaN</td>\n",
       "      <td>NaN</td>\n",
       "      <td>NaN</td>\n",
       "      <td>0.0</td>\n",
       "      <td>0.0</td>\n",
       "    </tr>\n",
       "    <tr>\n",
       "      <th>Net Income From Continuing Operations</th>\n",
       "      <td>318067500000.0</td>\n",
       "      <td>26898700000.0</td>\n",
       "      <td>-113087600000.0</td>\n",
       "      <td>-142138000000.0</td>\n",
       "      <td>NaN</td>\n",
       "    </tr>\n",
       "  </tbody>\n",
       "</table>\n",
       "<p>74 rows × 5 columns</p>\n",
       "</div>"
      ],
      "text/plain": [
       "                                             2024-03-31      2023-03-31  \\\n",
       "Free Cash Flow                           365017300000.0  172923300000.0   \n",
       "Repayment Of Debt                       -504082600000.0 -634175200000.0   \n",
       "Issuance Of Debt                         218235000000.0  444405100000.0   \n",
       "Issuance Of Capital Stock                   818700000.0   37696000000.0   \n",
       "Capital Expenditure                     -314136300000.0 -180956800000.0   \n",
       "...                                                 ...             ...   \n",
       "Earnings Losses From Equity Investments             NaN             NaN   \n",
       "Gain Loss On Investment Securities          279200000.0    -881700000.0   \n",
       "Net Foreign Currency Exchange Gain Loss   -5375500000.0   37466100000.0   \n",
       "Gain Loss On Sale Of Business                       NaN             NaN   \n",
       "Net Income From Continuing Operations    318067500000.0   26898700000.0   \n",
       "\n",
       "                                             2022-03-31      2021-03-31  \\\n",
       "Free Cash Flow                            -8855900000.0   87951100000.0   \n",
       "Repayment Of Debt                       -448896100000.0 -342528100000.0   \n",
       "Issuance Of Debt                         481748600000.0  504845200000.0   \n",
       "Issuance Of Capital Stock                 37685900000.0   26025100000.0   \n",
       "Capital Expenditure                     -151684200000.0 -202054000000.0   \n",
       "...                                                 ...             ...   \n",
       "Earnings Losses From Equity Investments     740600000.0    3789600000.0   \n",
       "Gain Loss On Investment Securities        -2065900000.0  -12718700000.0   \n",
       "Net Foreign Currency Exchange Gain Loss   -8785100000.0  -43981200000.0   \n",
       "Gain Loss On Sale Of Business                       NaN             0.0   \n",
       "Net Income From Continuing Operations   -113087600000.0 -142138000000.0   \n",
       "\n",
       "                                            2020-03-31  \n",
       "Free Cash Flow                                     NaN  \n",
       "Repayment Of Debt                                  NaN  \n",
       "Issuance Of Debt                                   NaN  \n",
       "Issuance Of Capital Stock                          NaN  \n",
       "Capital Expenditure                                NaN  \n",
       "...                                                ...  \n",
       "Earnings Losses From Equity Investments  10000000000.0  \n",
       "Gain Loss On Investment Securities                 NaN  \n",
       "Net Foreign Currency Exchange Gain Loss            NaN  \n",
       "Gain Loss On Sale Of Business                      0.0  \n",
       "Net Income From Continuing Operations              NaN  \n",
       "\n",
       "[74 rows x 5 columns]"
      ]
     },
     "metadata": {},
     "output_type": "display_data"
    },
    {
     "data": {
      "text/html": [
       "<div>\n",
       "<style scoped>\n",
       "    .dataframe tbody tr th:only-of-type {\n",
       "        vertical-align: middle;\n",
       "    }\n",
       "\n",
       "    .dataframe tbody tr th {\n",
       "        vertical-align: top;\n",
       "    }\n",
       "\n",
       "    .dataframe thead th {\n",
       "        text-align: right;\n",
       "    }\n",
       "</style>\n",
       "<table border=\"1\" class=\"dataframe\">\n",
       "  <thead>\n",
       "    <tr style=\"text-align: right;\">\n",
       "      <th></th>\n",
       "      <th>Stock</th>\n",
       "      <th>Ticker</th>\n",
       "      <th>PE Ratio</th>\n",
       "      <th>EPS</th>\n",
       "      <th>Dividend Yield</th>\n",
       "      <th>Market Cap</th>\n",
       "      <th>52-Week High</th>\n",
       "      <th>52-Week Low</th>\n",
       "      <th>90-Day Moving Average</th>\n",
       "      <th>180-Day Moving Average</th>\n",
       "      <th>Volume</th>\n",
       "    </tr>\n",
       "  </thead>\n",
       "  <tbody>\n",
       "    <tr>\n",
       "      <th>0</th>\n",
       "      <td>Tata_Motors</td>\n",
       "      <td>TATAMOTORS.NS</td>\n",
       "      <td>8.601022</td>\n",
       "      <td>90.03</td>\n",
       "      <td>0.0039</td>\n",
       "      <td>2850475212800</td>\n",
       "      <td>1179.00</td>\n",
       "      <td>717.70</td>\n",
       "      <td>798.988280</td>\n",
       "      <td>912.585432</td>\n",
       "      <td>8678662</td>\n",
       "    </tr>\n",
       "    <tr>\n",
       "      <th>1</th>\n",
       "      <td>Reliance_Industries</td>\n",
       "      <td>RELIANCE.NS</td>\n",
       "      <td>25.223063</td>\n",
       "      <td>50.21</td>\n",
       "      <td>0.0040</td>\n",
       "      <td>17138106499072</td>\n",
       "      <td>1608.80</td>\n",
       "      <td>1201.50</td>\n",
       "      <td>1279.824614</td>\n",
       "      <td>1375.185581</td>\n",
       "      <td>14116032</td>\n",
       "    </tr>\n",
       "    <tr>\n",
       "      <th>2</th>\n",
       "      <td>HDFC_Bank</td>\n",
       "      <td>HDFCBANK.NS</td>\n",
       "      <td>18.724356</td>\n",
       "      <td>88.23</td>\n",
       "      <td>0.0119</td>\n",
       "      <td>12635374354432</td>\n",
       "      <td>1880.00</td>\n",
       "      <td>1363.55</td>\n",
       "      <td>1759.578905</td>\n",
       "      <td>1707.415356</td>\n",
       "      <td>10605895</td>\n",
       "    </tr>\n",
       "    <tr>\n",
       "      <th>3</th>\n",
       "      <td>Infosys</td>\n",
       "      <td>INFY.NS</td>\n",
       "      <td>28.920965</td>\n",
       "      <td>66.68</td>\n",
       "      <td>0.0210</td>\n",
       "      <td>7987697549312</td>\n",
       "      <td>2006.45</td>\n",
       "      <td>1358.35</td>\n",
       "      <td>1890.805189</td>\n",
       "      <td>1874.240249</td>\n",
       "      <td>7527493</td>\n",
       "    </tr>\n",
       "    <tr>\n",
       "      <th>4</th>\n",
       "      <td>ICICI_Bank</td>\n",
       "      <td>ICICIBANK.NS</td>\n",
       "      <td>18.891409</td>\n",
       "      <td>66.12</td>\n",
       "      <td>0.0081</td>\n",
       "      <td>8818745409536</td>\n",
       "      <td>1362.35</td>\n",
       "      <td>970.15</td>\n",
       "      <td>1285.063280</td>\n",
       "      <td>1257.052013</td>\n",
       "      <td>11895661</td>\n",
       "    </tr>\n",
       "    <tr>\n",
       "      <th>5</th>\n",
       "      <td>Hindustan_Unilever</td>\n",
       "      <td>HINDUNILVR.NS</td>\n",
       "      <td>53.710490</td>\n",
       "      <td>43.66</td>\n",
       "      <td>0.0181</td>\n",
       "      <td>5510257442816</td>\n",
       "      <td>3035.00</td>\n",
       "      <td>2172.05</td>\n",
       "      <td>2452.648350</td>\n",
       "      <td>2619.358771</td>\n",
       "      <td>2762503</td>\n",
       "    </tr>\n",
       "    <tr>\n",
       "      <th>6</th>\n",
       "      <td>Kotak_Mahindra_Bank</td>\n",
       "      <td>KOTAKBANK.NS</td>\n",
       "      <td>16.458980</td>\n",
       "      <td>109.70</td>\n",
       "      <td>0.0011</td>\n",
       "      <td>3589740429312</td>\n",
       "      <td>1942.00</td>\n",
       "      <td>1543.85</td>\n",
       "      <td>1768.802341</td>\n",
       "      <td>1791.065541</td>\n",
       "      <td>4451507</td>\n",
       "    </tr>\n",
       "    <tr>\n",
       "      <th>7</th>\n",
       "      <td>State_Bank_of_India</td>\n",
       "      <td>SBIN.NS</td>\n",
       "      <td>9.556054</td>\n",
       "      <td>80.19</td>\n",
       "      <td>0.0182</td>\n",
       "      <td>6838935879680</td>\n",
       "      <td>912.00</td>\n",
       "      <td>600.65</td>\n",
       "      <td>816.328912</td>\n",
       "      <td>815.842129</td>\n",
       "      <td>11815191</td>\n",
       "    </tr>\n",
       "    <tr>\n",
       "      <th>8</th>\n",
       "      <td>Larsen_Toubro</td>\n",
       "      <td>LT.NS</td>\n",
       "      <td>35.780293</td>\n",
       "      <td>98.04</td>\n",
       "      <td>0.0080</td>\n",
       "      <td>4823818174464</td>\n",
       "      <td>3963.50</td>\n",
       "      <td>3175.05</td>\n",
       "      <td>3630.448437</td>\n",
       "      <td>3629.902749</td>\n",
       "      <td>2305388</td>\n",
       "    </tr>\n",
       "    <tr>\n",
       "      <th>9</th>\n",
       "      <td>Axis_Bank</td>\n",
       "      <td>AXISBANK.NS</td>\n",
       "      <td>11.553874</td>\n",
       "      <td>89.84</td>\n",
       "      <td>0.0010</td>\n",
       "      <td>3214665318400</td>\n",
       "      <td>1339.65</td>\n",
       "      <td>995.70</td>\n",
       "      <td>1128.303907</td>\n",
       "      <td>1160.912991</td>\n",
       "      <td>10261342</td>\n",
       "    </tr>\n",
       "    <tr>\n",
       "      <th>10</th>\n",
       "      <td>Bajaj_Finance</td>\n",
       "      <td>BAJFINANCE.NS</td>\n",
       "      <td>29.233109</td>\n",
       "      <td>248.34</td>\n",
       "      <td>0.0050</td>\n",
       "      <td>4491338317824</td>\n",
       "      <td>7824.00</td>\n",
       "      <td>6187.80</td>\n",
       "      <td>6921.390633</td>\n",
       "      <td>7001.617730</td>\n",
       "      <td>860816</td>\n",
       "    </tr>\n",
       "    <tr>\n",
       "      <th>11</th>\n",
       "      <td>HCL_Technologies</td>\n",
       "      <td>HCLTECH.NS</td>\n",
       "      <td>28.452929</td>\n",
       "      <td>62.99</td>\n",
       "      <td>0.0241</td>\n",
       "      <td>4854703456256</td>\n",
       "      <td>2012.20</td>\n",
       "      <td>1235.00</td>\n",
       "      <td>1882.011875</td>\n",
       "      <td>1791.685833</td>\n",
       "      <td>5361047</td>\n",
       "    </tr>\n",
       "    <tr>\n",
       "      <th>12</th>\n",
       "      <td>Maruti_Suzuki</td>\n",
       "      <td>MARUTI.NS</td>\n",
       "      <td>27.134682</td>\n",
       "      <td>445.64</td>\n",
       "      <td>0.0105</td>\n",
       "      <td>3801855557632</td>\n",
       "      <td>13680.00</td>\n",
       "      <td>9737.65</td>\n",
       "      <td>11332.964828</td>\n",
       "      <td>11909.974325</td>\n",
       "      <td>551130</td>\n",
       "    </tr>\n",
       "    <tr>\n",
       "      <th>13</th>\n",
       "      <td>Tata_Steel</td>\n",
       "      <td>TATASTEEL.NS</td>\n",
       "      <td>53.701675</td>\n",
       "      <td>2.38</td>\n",
       "      <td>0.0285</td>\n",
       "      <td>1594020724736</td>\n",
       "      <td>184.60</td>\n",
       "      <td>122.62</td>\n",
       "      <td>143.385312</td>\n",
       "      <td>149.907481</td>\n",
       "      <td>22139928</td>\n",
       "    </tr>\n",
       "    <tr>\n",
       "      <th>14</th>\n",
       "      <td>Sun_Pharma</td>\n",
       "      <td>SUNPHARMA.NS</td>\n",
       "      <td>38.307630</td>\n",
       "      <td>46.03</td>\n",
       "      <td>0.0077</td>\n",
       "      <td>4230738870272</td>\n",
       "      <td>1960.35</td>\n",
       "      <td>1290.00</td>\n",
       "      <td>1820.224218</td>\n",
       "      <td>1806.986218</td>\n",
       "      <td>2180146</td>\n",
       "    </tr>\n",
       "    <tr>\n",
       "      <th>15</th>\n",
       "      <td>NTPC</td>\n",
       "      <td>NTPC.NS</td>\n",
       "      <td>16.522842</td>\n",
       "      <td>19.70</td>\n",
       "      <td>0.0350</td>\n",
       "      <td>3156265926656</td>\n",
       "      <td>448.45</td>\n",
       "      <td>296.55</td>\n",
       "      <td>365.831185</td>\n",
       "      <td>385.997842</td>\n",
       "      <td>14864338</td>\n",
       "    </tr>\n",
       "  </tbody>\n",
       "</table>\n",
       "</div>"
      ],
      "text/plain": [
       "                  Stock         Ticker   PE Ratio     EPS  Dividend Yield  \\\n",
       "0           Tata_Motors  TATAMOTORS.NS   8.601022   90.03          0.0039   \n",
       "1   Reliance_Industries    RELIANCE.NS  25.223063   50.21          0.0040   \n",
       "2             HDFC_Bank    HDFCBANK.NS  18.724356   88.23          0.0119   \n",
       "3               Infosys        INFY.NS  28.920965   66.68          0.0210   \n",
       "4            ICICI_Bank   ICICIBANK.NS  18.891409   66.12          0.0081   \n",
       "5    Hindustan_Unilever  HINDUNILVR.NS  53.710490   43.66          0.0181   \n",
       "6   Kotak_Mahindra_Bank   KOTAKBANK.NS  16.458980  109.70          0.0011   \n",
       "7   State_Bank_of_India        SBIN.NS   9.556054   80.19          0.0182   \n",
       "8         Larsen_Toubro          LT.NS  35.780293   98.04          0.0080   \n",
       "9             Axis_Bank    AXISBANK.NS  11.553874   89.84          0.0010   \n",
       "10        Bajaj_Finance  BAJFINANCE.NS  29.233109  248.34          0.0050   \n",
       "11     HCL_Technologies     HCLTECH.NS  28.452929   62.99          0.0241   \n",
       "12        Maruti_Suzuki      MARUTI.NS  27.134682  445.64          0.0105   \n",
       "13           Tata_Steel   TATASTEEL.NS  53.701675    2.38          0.0285   \n",
       "14           Sun_Pharma   SUNPHARMA.NS  38.307630   46.03          0.0077   \n",
       "15                 NTPC        NTPC.NS  16.522842   19.70          0.0350   \n",
       "\n",
       "        Market Cap  52-Week High  52-Week Low  90-Day Moving Average  \\\n",
       "0    2850475212800       1179.00       717.70             798.988280   \n",
       "1   17138106499072       1608.80      1201.50            1279.824614   \n",
       "2   12635374354432       1880.00      1363.55            1759.578905   \n",
       "3    7987697549312       2006.45      1358.35            1890.805189   \n",
       "4    8818745409536       1362.35       970.15            1285.063280   \n",
       "5    5510257442816       3035.00      2172.05            2452.648350   \n",
       "6    3589740429312       1942.00      1543.85            1768.802341   \n",
       "7    6838935879680        912.00       600.65             816.328912   \n",
       "8    4823818174464       3963.50      3175.05            3630.448437   \n",
       "9    3214665318400       1339.65       995.70            1128.303907   \n",
       "10   4491338317824       7824.00      6187.80            6921.390633   \n",
       "11   4854703456256       2012.20      1235.00            1882.011875   \n",
       "12   3801855557632      13680.00      9737.65           11332.964828   \n",
       "13   1594020724736        184.60       122.62             143.385312   \n",
       "14   4230738870272       1960.35      1290.00            1820.224218   \n",
       "15   3156265926656        448.45       296.55             365.831185   \n",
       "\n",
       "    180-Day Moving Average    Volume  \n",
       "0               912.585432   8678662  \n",
       "1              1375.185581  14116032  \n",
       "2              1707.415356  10605895  \n",
       "3              1874.240249   7527493  \n",
       "4              1257.052013  11895661  \n",
       "5              2619.358771   2762503  \n",
       "6              1791.065541   4451507  \n",
       "7               815.842129  11815191  \n",
       "8              3629.902749   2305388  \n",
       "9              1160.912991  10261342  \n",
       "10             7001.617730    860816  \n",
       "11             1791.685833   5361047  \n",
       "12            11909.974325    551130  \n",
       "13              149.907481  22139928  \n",
       "14             1806.986218   2180146  \n",
       "15              385.997842  14864338  "
      ]
     },
     "execution_count": 39,
     "metadata": {},
     "output_type": "execute_result"
    }
   ],
   "source": [
    "ticker = yf.Ticker(\"TATAMOTORS.NS\")\n",
    "display(ticker.info)  # Company information\n",
    "display(ticker.financials)  # Financial statements\n",
    "display(ticker.balance_sheet)  # Balance sheet\n",
    "display(ticker.cashflow)  # Cash flow statement\n",
    "df"
   ]
  },
  {
   "cell_type": "code",
   "execution_count": null,
   "metadata": {},
   "outputs": [],
   "source": []
  }
 ],
 "metadata": {
  "kernelspec": {
   "display_name": "Python 3",
   "language": "python",
   "name": "python3"
  },
  "language_info": {
   "codemirror_mode": {
    "name": "ipython",
    "version": 3
   },
   "file_extension": ".py",
   "mimetype": "text/x-python",
   "name": "python",
   "nbconvert_exporter": "python",
   "pygments_lexer": "ipython3",
   "version": "3.12.8"
  }
 },
 "nbformat": 4,
 "nbformat_minor": 2
}
